{
 "cells": [
  {
   "cell_type": "markdown",
   "id": "edf63ab9-c79f-4996-b34e-06f8a388fe2b",
   "metadata": {},
   "source": [
    "### Extract the data from csv "
   ]
  },
  {
   "cell_type": "code",
   "execution_count": 20,
   "id": "6fa9bb99-675e-4eec-9441-1ea2fad7b433",
   "metadata": {},
   "outputs": [],
   "source": [
    "import numpy as np \n",
    "from sklearn import preprocessing\n",
    "\n",
    "raw_csv_data = np.loadtxt(r'C:\\Users\\Prachi\\Downloads\\Audiobooks_data.csv', delimiter = ',') \n",
    "\n",
    "unscaled_inputs_all = raw_csv_data[:,1:-1]\n",
    "targets_all = raw_csv_data[:,-1]\n",
    "                    "
   ]
  },
  {
   "cell_type": "markdown",
   "id": "fed2f144-2f3f-43ae-8ceb-8bcd22cb1ca5",
   "metadata": {},
   "source": [
    "### Balance the sheet "
   ]
  },
  {
   "cell_type": "code",
   "execution_count": 21,
   "id": "611b4d2d-448e-415b-ba8f-e45bed28306a",
   "metadata": {},
   "outputs": [],
   "source": [
    "num_one_targets = int(np.sum(targets_all))\n",
    "zero_targets_counter = 0 \n",
    "indices_to_remove = []\n",
    "\n",
    "for i in range(targets_all.shape[0]):\n",
    "    if targets_all[i] == 0:\n",
    "        zero_targets_counter +=1\n",
    "        if zero_targets_counter > num_one_targets:\n",
    "            indices_to_remove.append(i)\n",
    "\n",
    "unscaled_inputs_equal_priors = np.delete(unscaled_inputs_all, indices_to_remove, axis = 0) \n",
    "targets_equal_priors = np.delete(targets_all, indices_to_remove, axis=0)\n",
    "            "
   ]
  },
  {
   "cell_type": "markdown",
   "id": "f194e329-66d9-4c40-b642-04238c37dae0",
   "metadata": {},
   "source": [
    "### Standardize the input or scale inputs"
   ]
  },
  {
   "cell_type": "code",
   "execution_count": 22,
   "id": "dcbab1bd-b277-48fc-b3e4-0c1815a8e583",
   "metadata": {},
   "outputs": [],
   "source": [
    "scaled_inputs = preprocessing.scale(unscaled_inputs_equal_priors)"
   ]
  },
  {
   "cell_type": "markdown",
   "id": "a0513f30-f480-43fb-ae8b-9111583527b6",
   "metadata": {},
   "source": [
    "### Shuffle the data "
   ]
  },
  {
   "cell_type": "code",
   "execution_count": 23,
   "id": "3949c4df-554e-4fa8-8db8-5cefefc0ba91",
   "metadata": {},
   "outputs": [],
   "source": [
    "shuffled_indices = np.arange(scaled_inputs.shape[0]) \n",
    "np.random.shuffle(shuffled_indices) \n",
    "\n",
    "shuffled_inputs = scaled_inputs[shuffled_indices]\n",
    "shuffled_targets = targets_equal_priors[shuffled_indices]"
   ]
  },
  {
   "cell_type": "markdown",
   "id": "624e69d6-9281-4ea2-82ac-648d4adf4756",
   "metadata": {},
   "source": [
    "### Save the three datasets in *.npz "
   ]
  },
  {
   "cell_type": "code",
   "execution_count": 24,
   "id": "76228075-64ec-40bb-8c8a-6e1d67506dc3",
   "metadata": {},
   "outputs": [
    {
     "name": "stdout",
     "output_type": "stream",
     "text": [
      "1795.0 3579 0.5015367421067337\n",
      "211.0 447 0.4720357941834452\n",
      "231.0 448 0.515625\n"
     ]
    }
   ],
   "source": [
    "samples_count = shuffled_inputs.shape[0]\n",
    "\n",
    "train_samples_count = int(0.8*samples_count) \n",
    "validation_samples_count = int(0.1*samples_count) \n",
    "test_samples_count = samples_count - train_samples_count - validation_samples_count\n",
    "\n",
    "train_inputs = shuffled_inputs[:train_samples_count]\n",
    "train_targets = shuffled_targets[:train_samples_count]\n",
    "\n",
    "validation_inputs = shuffled_inputs[train_samples_count:train_samples_count+validation_samples_count] \n",
    "validation_targets = shuffled_targets[train_samples_count:train_samples_count+validation_samples_count]\n",
    "\n",
    "test_inputs = shuffled_inputs[train_samples_count+validation_samples_count::]\n",
    "test_targets = shuffled_targets[train_samples_count+validation_samples_count:]\n",
    "\n",
    "\n",
    "print(np.sum(train_targets), train_samples_count, np.sum(train_targets) / train_samples_count) \n",
    "print(np.sum(validation_targets), validation_samples_count, np.sum(validation_targets) / validation_samples_count) \n",
    "print(np.sum(test_targets), test_samples_count, np.sum(test_targets) / test_samples_count) "
   ]
  },
  {
   "cell_type": "markdown",
   "id": "6dba69cc-bfa5-4649-83ab-d8f26a038d02",
   "metadata": {},
   "source": [
    "### Save the three datasets in *.npz "
   ]
  },
  {
   "cell_type": "code",
   "execution_count": 25,
   "id": "d8044605-814d-4f94-9441-4db64a86fd63",
   "metadata": {},
   "outputs": [],
   "source": [
    "np.savez('Audioooks_data_train', inputs=train_inputs, targets=train_targets) \n",
    "np.savez('Audioooks_data_validation', inputs=validation_inputs, targets=validation_targets) \n",
    "np.savez('Audioooks_data_test', inputs=test_inputs, targets=test_targets) "
   ]
  },
  {
   "cell_type": "code",
   "execution_count": null,
   "id": "71c417de-ea16-42a7-af7f-5670e914c613",
   "metadata": {},
   "outputs": [],
   "source": []
  }
 ],
 "metadata": {
  "kernelspec": {
   "display_name": "Python 3 (ipykernel)",
   "language": "python",
   "name": "python3"
  },
  "language_info": {
   "codemirror_mode": {
    "name": "ipython",
    "version": 3
   },
   "file_extension": ".py",
   "mimetype": "text/x-python",
   "name": "python",
   "nbconvert_exporter": "python",
   "pygments_lexer": "ipython3",
   "version": "3.10.18"
  }
 },
 "nbformat": 4,
 "nbformat_minor": 5
}
